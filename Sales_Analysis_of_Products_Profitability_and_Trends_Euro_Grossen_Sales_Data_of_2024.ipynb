{
  "nbformat": 4,
  "nbformat_minor": 0,
  "metadata": {
    "colab": {
      "provenance": [],
      "toc_visible": true
    },
    "kernelspec": {
      "name": "python3",
      "display_name": "Python 3"
    },
    "language_info": {
      "name": "python"
    }
  },
  "cells": [
    {
      "cell_type": "markdown",
      "source": [
        "# Sales Analysis of Products: Profitability and Trends - Euro Grossen Sales Data of 2024"
      ],
      "metadata": {
        "id": "M0ghtm4J6Vou"
      }
    },
    {
      "cell_type": "markdown",
      "source": [
        "## Introduction\n",
        "\n",
        "This project focuses on analyzing the Euro Grossen Sales Data of 2024, which includes detailed information on product sales, pricing, and profitability. By examining data for the year 2024, the analysis aims to uncover insights into sales trends, profitability, and overall business performance. The dataset consists of various products across different categories, helping to identify key drivers of revenue and profit. This project will support business strategies for optimizing sales, pricing, and inventory management."
      ],
      "metadata": {
        "id": "NGKWhyNh68ng"
      }
    },
    {
      "cell_type": "markdown",
      "source": [
        "## Goals\n",
        "\n",
        "- To analyze the sales performance of each product category within the Euro Grossen sales data of 2024.\n",
        "- To evaluate the profitability of products by comparing the selling price with the buying price.\n",
        "- To identify sales patterns and trends over time, particularly month-to-month variations.\n",
        "- To provide actionable insights that can inform pricing strategies, inventory management, and overall sales optimization."
      ],
      "metadata": {
        "id": "iw916Hl46_yr"
      }
    },
    {
      "cell_type": "markdown",
      "source": [
        "## Metrics and Dimensions"
      ],
      "metadata": {
        "id": "ZNhurWOE6Emd"
      }
    },
    {
      "cell_type": "markdown",
      "source": [
        "Metrics:\n",
        "\n",
        "- Total Sell: Total revenue generated from sales of each product.\n",
        "- Profit: The profit earned from each sale, calculated as the difference between Total Sell and Buying Price.\n",
        "- Quantity: The number of items sold.\n",
        "- Weight: The weight of each product, which may affect shipping costs and logistics.\n",
        "- Price per Piece (Kr): The selling price of each individual product.\n",
        "- Buying Price: The cost at which each product was purchased.\n",
        "\n",
        "Dimensions:\n",
        "\n",
        "- Product Name: The name of the product being sold.\n",
        "- Product Category: The category to which each product belongs, providing a way to group similar items.\n",
        "- Month: The specific month during which the sales occurred, allowing for time-based analysis of trends.\n",
        "\n",
        "This analysis of the Euro Grossen Sales Data of 2024 will provide a clear understanding of which products and categories are most profitable, uncover seasonal or monthly sales trends, and offer strategic insights to optimize future sales and business decisions.\n",
        "\n"
      ],
      "metadata": {
        "id": "daq-DB_wBLY-"
      }
    },
    {
      "cell_type": "markdown",
      "source": [
        "# Business Insight Overview\n",
        "\n",
        "**1. Seasonal Sales Patterns**\n",
        "\n",
        "What I Found:\n",
        "- Sales were very high in January 2024 but dropped a lot in the next few months. After April, sales started to recover steadily and kept growing until November.\n",
        "\n",
        "What to Do Next:\n",
        "- Use the strong sales in January to launch new products or run big promotions.\n",
        "Study why sales were low in March and April (maybe customer habits or competition) and plan special offers or discounts to avoid the same issue in the future.\n",
        "- Repeat the strategies used during the second half of the year since they worked well to increase sales.\n",
        "\n",
        "**2. Profitability and Pricing**\n",
        "\n",
        "What I Found:\n",
        "- Higher buying costs and sales directly increase profits. This means managing costs is very important.\n",
        "- Raising the price per product can boost profits, but it doesn’t affect how many items are sold. This shows that customers don’t mind small price increases.\n",
        "\n",
        "What to Do Next:\n",
        "- Try to lower buying costs to increase profits without raising prices too much.\n",
        "Adjust product prices slightly to increase profits, especially for items that customers are willing to buy at higher prices.\n",
        "\n",
        "**3. Best and Worst Product Categories**\n",
        "\n",
        "What I Found:\n",
        "\n",
        "- Spices make the most profit with $1,900,901.51.\n",
        "\n",
        "- Frozen Fish is in second place with $983,625.90.\n",
        "\n",
        "**4. Reliable Data Insights**\n",
        "\n",
        "What I Found:\n",
        "- The data shows a strong relationship between buying price and total sales, meaning the pricing system is consistent.\n",
        "\n",
        "What to Do Next:\n",
        "- Use this reliable data to predict future sales and plan inventory more effectively.\n",
        "\n",
        "**5. Steps to Improve Sales and Profits**\n",
        "\n",
        "Sales Strategies:\n",
        "- Introduce loyalty programs, bundle deals, or discounts to keep sales growing, especially in the second half of the year.\n",
        "- Focus on creating campaigns for low-sales months like March and April.\n",
        "\n"
      ],
      "metadata": {
        "id": "Q9PW5s56G3op"
      }
    },
    {
      "cell_type": "markdown",
      "source": [
        "## Data Wrangling"
      ],
      "metadata": {
        "id": "BWeGEuKT824F"
      }
    },
    {
      "cell_type": "markdown",
      "source": [
        "Import the required libraries and dataset for our analysis"
      ],
      "metadata": {
        "id": "Mfkbi8Se86JL"
      }
    },
    {
      "cell_type": "code",
      "source": [
        "from google.colab import drive\n",
        "drive.mount('/content/drive')"
      ],
      "metadata": {
        "colab": {
          "base_uri": "https://localhost:8080/"
        },
        "id": "iGmJsC0q-DaE",
        "outputId": "2782fa23-072f-4c09-ecb5-256bb5f61f7c"
      },
      "execution_count": 2,
      "outputs": [
        {
          "output_type": "stream",
          "name": "stdout",
          "text": [
            "Mounted at /content/drive\n"
          ]
        }
      ]
    },
    {
      "cell_type": "code",
      "source": [
        "!ls \"/content/drive/My Drive\""
      ],
      "metadata": {
        "colab": {
          "base_uri": "https://localhost:8080/"
        },
        "id": "FBnXrfG5-FyC",
        "outputId": "4b80f0ee-5ca4-49b5-b557-be56a2013221"
      },
      "execution_count": 3,
      "outputs": [
        {
          "output_type": "stream",
          "name": "stdout",
          "text": [
            "'Bangkit 2024'\t\t\t  'Colab Notebooks'\t\t    'Learn Finance Track'\n",
            " BI\t\t\t\t   CV\t\t\t\t    'Machine Learning'\n",
            "'Business Analytics Himabis.pdf'   data\t\t\t\t     Prototype\n",
            " Classroom\t\t\t  'Dicoding for financial analyst'   Sopyan_KRS.pdf\n"
          ]
        }
      ]
    },
    {
      "cell_type": "code",
      "source": [
        "import pandas as pd\n",
        "import numpy as np\n",
        "import matplotlib.pyplot as plt\n",
        "import seaborn as sns"
      ],
      "metadata": {
        "id": "WcQWgYdZ-UpW"
      },
      "execution_count": 4,
      "outputs": []
    },
    {
      "cell_type": "code",
      "source": [
        "file_path = \"/content/drive/MyDrive/CV/Analysis Data/Dataset/project1/Euro Grossen Sales Data of 2024.xlsx\"\n",
        "sales = pd.read_excel(file_path)\n",
        "sales.shape"
      ],
      "metadata": {
        "colab": {
          "base_uri": "https://localhost:8080/"
        },
        "id": "DUFPZ05v-o06",
        "outputId": "f7d3a84d-55ae-4b9c-c827-648f0562f021"
      },
      "execution_count": 5,
      "outputs": [
        {
          "output_type": "execute_result",
          "data": {
            "text/plain": [
              "(5040, 9)"
            ]
          },
          "metadata": {},
          "execution_count": 5
        }
      ]
    },
    {
      "cell_type": "code",
      "source": [
        "sales.head(5)"
      ],
      "metadata": {
        "colab": {
          "base_uri": "https://localhost:8080/",
          "height": 206
        },
        "id": "QC1UImS1_mGN",
        "outputId": "68b4c2b1-f2ff-482e-a844-0b63366b497e"
      },
      "execution_count": 6,
      "outputs": [
        {
          "output_type": "execute_result",
          "data": {
            "text/plain": [
              "          Product Name Product category Weight  Price per Piece (Kr)  \\\n",
              "0     Elate Sella Rice             Rice   5 kg                  98.0   \n",
              "1   Elate Basmati Rice             Rice   5 kg                 106.0   \n",
              "2    Delara Sella Rice             Rice   5 kg                  96.0   \n",
              "3  Delara Basmati Rice             Rice   5 kg                 102.0   \n",
              "4   Tilda Basmati Rice             Rice  10 kg                 350.0   \n",
              "\n",
              "   Quantity  Buying Price  Total Sell   Profit      Month  \n",
              "0       150       14700.0     19110.0   4410.0 2024-01-23  \n",
              "1       200       21200.0     27560.0   6360.0 2024-01-23  \n",
              "2       125       12000.0     15600.0   3600.0 2024-01-23  \n",
              "3       180       18360.0     23868.0   5508.0 2024-01-23  \n",
              "4       100       35000.0     45500.0  10500.0 2024-01-23  "
            ],
            "text/html": [
              "\n",
              "  <div id=\"df-a58450cd-7b7e-4f7f-b9f0-33be5804af4f\" class=\"colab-df-container\">\n",
              "    <div>\n",
              "<style scoped>\n",
              "    .dataframe tbody tr th:only-of-type {\n",
              "        vertical-align: middle;\n",
              "    }\n",
              "\n",
              "    .dataframe tbody tr th {\n",
              "        vertical-align: top;\n",
              "    }\n",
              "\n",
              "    .dataframe thead th {\n",
              "        text-align: right;\n",
              "    }\n",
              "</style>\n",
              "<table border=\"1\" class=\"dataframe\">\n",
              "  <thead>\n",
              "    <tr style=\"text-align: right;\">\n",
              "      <th></th>\n",
              "      <th>Product Name</th>\n",
              "      <th>Product category</th>\n",
              "      <th>Weight</th>\n",
              "      <th>Price per Piece (Kr)</th>\n",
              "      <th>Quantity</th>\n",
              "      <th>Buying Price</th>\n",
              "      <th>Total Sell</th>\n",
              "      <th>Profit</th>\n",
              "      <th>Month</th>\n",
              "    </tr>\n",
              "  </thead>\n",
              "  <tbody>\n",
              "    <tr>\n",
              "      <th>0</th>\n",
              "      <td>Elate Sella Rice</td>\n",
              "      <td>Rice</td>\n",
              "      <td>5 kg</td>\n",
              "      <td>98.0</td>\n",
              "      <td>150</td>\n",
              "      <td>14700.0</td>\n",
              "      <td>19110.0</td>\n",
              "      <td>4410.0</td>\n",
              "      <td>2024-01-23</td>\n",
              "    </tr>\n",
              "    <tr>\n",
              "      <th>1</th>\n",
              "      <td>Elate Basmati Rice</td>\n",
              "      <td>Rice</td>\n",
              "      <td>5 kg</td>\n",
              "      <td>106.0</td>\n",
              "      <td>200</td>\n",
              "      <td>21200.0</td>\n",
              "      <td>27560.0</td>\n",
              "      <td>6360.0</td>\n",
              "      <td>2024-01-23</td>\n",
              "    </tr>\n",
              "    <tr>\n",
              "      <th>2</th>\n",
              "      <td>Delara Sella Rice</td>\n",
              "      <td>Rice</td>\n",
              "      <td>5 kg</td>\n",
              "      <td>96.0</td>\n",
              "      <td>125</td>\n",
              "      <td>12000.0</td>\n",
              "      <td>15600.0</td>\n",
              "      <td>3600.0</td>\n",
              "      <td>2024-01-23</td>\n",
              "    </tr>\n",
              "    <tr>\n",
              "      <th>3</th>\n",
              "      <td>Delara Basmati Rice</td>\n",
              "      <td>Rice</td>\n",
              "      <td>5 kg</td>\n",
              "      <td>102.0</td>\n",
              "      <td>180</td>\n",
              "      <td>18360.0</td>\n",
              "      <td>23868.0</td>\n",
              "      <td>5508.0</td>\n",
              "      <td>2024-01-23</td>\n",
              "    </tr>\n",
              "    <tr>\n",
              "      <th>4</th>\n",
              "      <td>Tilda Basmati Rice</td>\n",
              "      <td>Rice</td>\n",
              "      <td>10 kg</td>\n",
              "      <td>350.0</td>\n",
              "      <td>100</td>\n",
              "      <td>35000.0</td>\n",
              "      <td>45500.0</td>\n",
              "      <td>10500.0</td>\n",
              "      <td>2024-01-23</td>\n",
              "    </tr>\n",
              "  </tbody>\n",
              "</table>\n",
              "</div>\n",
              "    <div class=\"colab-df-buttons\">\n",
              "\n",
              "  <div class=\"colab-df-container\">\n",
              "    <button class=\"colab-df-convert\" onclick=\"convertToInteractive('df-a58450cd-7b7e-4f7f-b9f0-33be5804af4f')\"\n",
              "            title=\"Convert this dataframe to an interactive table.\"\n",
              "            style=\"display:none;\">\n",
              "\n",
              "  <svg xmlns=\"http://www.w3.org/2000/svg\" height=\"24px\" viewBox=\"0 -960 960 960\">\n",
              "    <path d=\"M120-120v-720h720v720H120Zm60-500h600v-160H180v160Zm220 220h160v-160H400v160Zm0 220h160v-160H400v160ZM180-400h160v-160H180v160Zm440 0h160v-160H620v160ZM180-180h160v-160H180v160Zm440 0h160v-160H620v160Z\"/>\n",
              "  </svg>\n",
              "    </button>\n",
              "\n",
              "  <style>\n",
              "    .colab-df-container {\n",
              "      display:flex;\n",
              "      gap: 12px;\n",
              "    }\n",
              "\n",
              "    .colab-df-convert {\n",
              "      background-color: #E8F0FE;\n",
              "      border: none;\n",
              "      border-radius: 50%;\n",
              "      cursor: pointer;\n",
              "      display: none;\n",
              "      fill: #1967D2;\n",
              "      height: 32px;\n",
              "      padding: 0 0 0 0;\n",
              "      width: 32px;\n",
              "    }\n",
              "\n",
              "    .colab-df-convert:hover {\n",
              "      background-color: #E2EBFA;\n",
              "      box-shadow: 0px 1px 2px rgba(60, 64, 67, 0.3), 0px 1px 3px 1px rgba(60, 64, 67, 0.15);\n",
              "      fill: #174EA6;\n",
              "    }\n",
              "\n",
              "    .colab-df-buttons div {\n",
              "      margin-bottom: 4px;\n",
              "    }\n",
              "\n",
              "    [theme=dark] .colab-df-convert {\n",
              "      background-color: #3B4455;\n",
              "      fill: #D2E3FC;\n",
              "    }\n",
              "\n",
              "    [theme=dark] .colab-df-convert:hover {\n",
              "      background-color: #434B5C;\n",
              "      box-shadow: 0px 1px 3px 1px rgba(0, 0, 0, 0.15);\n",
              "      filter: drop-shadow(0px 1px 2px rgba(0, 0, 0, 0.3));\n",
              "      fill: #FFFFFF;\n",
              "    }\n",
              "  </style>\n",
              "\n",
              "    <script>\n",
              "      const buttonEl =\n",
              "        document.querySelector('#df-a58450cd-7b7e-4f7f-b9f0-33be5804af4f button.colab-df-convert');\n",
              "      buttonEl.style.display =\n",
              "        google.colab.kernel.accessAllowed ? 'block' : 'none';\n",
              "\n",
              "      async function convertToInteractive(key) {\n",
              "        const element = document.querySelector('#df-a58450cd-7b7e-4f7f-b9f0-33be5804af4f');\n",
              "        const dataTable =\n",
              "          await google.colab.kernel.invokeFunction('convertToInteractive',\n",
              "                                                    [key], {});\n",
              "        if (!dataTable) return;\n",
              "\n",
              "        const docLinkHtml = 'Like what you see? Visit the ' +\n",
              "          '<a target=\"_blank\" href=https://colab.research.google.com/notebooks/data_table.ipynb>data table notebook</a>'\n",
              "          + ' to learn more about interactive tables.';\n",
              "        element.innerHTML = '';\n",
              "        dataTable['output_type'] = 'display_data';\n",
              "        await google.colab.output.renderOutput(dataTable, element);\n",
              "        const docLink = document.createElement('div');\n",
              "        docLink.innerHTML = docLinkHtml;\n",
              "        element.appendChild(docLink);\n",
              "      }\n",
              "    </script>\n",
              "  </div>\n",
              "\n",
              "\n",
              "<div id=\"df-367317b4-4ba6-4780-adb3-4fccf54228ce\">\n",
              "  <button class=\"colab-df-quickchart\" onclick=\"quickchart('df-367317b4-4ba6-4780-adb3-4fccf54228ce')\"\n",
              "            title=\"Suggest charts\"\n",
              "            style=\"display:none;\">\n",
              "\n",
              "<svg xmlns=\"http://www.w3.org/2000/svg\" height=\"24px\"viewBox=\"0 0 24 24\"\n",
              "     width=\"24px\">\n",
              "    <g>\n",
              "        <path d=\"M19 3H5c-1.1 0-2 .9-2 2v14c0 1.1.9 2 2 2h14c1.1 0 2-.9 2-2V5c0-1.1-.9-2-2-2zM9 17H7v-7h2v7zm4 0h-2V7h2v10zm4 0h-2v-4h2v4z\"/>\n",
              "    </g>\n",
              "</svg>\n",
              "  </button>\n",
              "\n",
              "<style>\n",
              "  .colab-df-quickchart {\n",
              "      --bg-color: #E8F0FE;\n",
              "      --fill-color: #1967D2;\n",
              "      --hover-bg-color: #E2EBFA;\n",
              "      --hover-fill-color: #174EA6;\n",
              "      --disabled-fill-color: #AAA;\n",
              "      --disabled-bg-color: #DDD;\n",
              "  }\n",
              "\n",
              "  [theme=dark] .colab-df-quickchart {\n",
              "      --bg-color: #3B4455;\n",
              "      --fill-color: #D2E3FC;\n",
              "      --hover-bg-color: #434B5C;\n",
              "      --hover-fill-color: #FFFFFF;\n",
              "      --disabled-bg-color: #3B4455;\n",
              "      --disabled-fill-color: #666;\n",
              "  }\n",
              "\n",
              "  .colab-df-quickchart {\n",
              "    background-color: var(--bg-color);\n",
              "    border: none;\n",
              "    border-radius: 50%;\n",
              "    cursor: pointer;\n",
              "    display: none;\n",
              "    fill: var(--fill-color);\n",
              "    height: 32px;\n",
              "    padding: 0;\n",
              "    width: 32px;\n",
              "  }\n",
              "\n",
              "  .colab-df-quickchart:hover {\n",
              "    background-color: var(--hover-bg-color);\n",
              "    box-shadow: 0 1px 2px rgba(60, 64, 67, 0.3), 0 1px 3px 1px rgba(60, 64, 67, 0.15);\n",
              "    fill: var(--button-hover-fill-color);\n",
              "  }\n",
              "\n",
              "  .colab-df-quickchart-complete:disabled,\n",
              "  .colab-df-quickchart-complete:disabled:hover {\n",
              "    background-color: var(--disabled-bg-color);\n",
              "    fill: var(--disabled-fill-color);\n",
              "    box-shadow: none;\n",
              "  }\n",
              "\n",
              "  .colab-df-spinner {\n",
              "    border: 2px solid var(--fill-color);\n",
              "    border-color: transparent;\n",
              "    border-bottom-color: var(--fill-color);\n",
              "    animation:\n",
              "      spin 1s steps(1) infinite;\n",
              "  }\n",
              "\n",
              "  @keyframes spin {\n",
              "    0% {\n",
              "      border-color: transparent;\n",
              "      border-bottom-color: var(--fill-color);\n",
              "      border-left-color: var(--fill-color);\n",
              "    }\n",
              "    20% {\n",
              "      border-color: transparent;\n",
              "      border-left-color: var(--fill-color);\n",
              "      border-top-color: var(--fill-color);\n",
              "    }\n",
              "    30% {\n",
              "      border-color: transparent;\n",
              "      border-left-color: var(--fill-color);\n",
              "      border-top-color: var(--fill-color);\n",
              "      border-right-color: var(--fill-color);\n",
              "    }\n",
              "    40% {\n",
              "      border-color: transparent;\n",
              "      border-right-color: var(--fill-color);\n",
              "      border-top-color: var(--fill-color);\n",
              "    }\n",
              "    60% {\n",
              "      border-color: transparent;\n",
              "      border-right-color: var(--fill-color);\n",
              "    }\n",
              "    80% {\n",
              "      border-color: transparent;\n",
              "      border-right-color: var(--fill-color);\n",
              "      border-bottom-color: var(--fill-color);\n",
              "    }\n",
              "    90% {\n",
              "      border-color: transparent;\n",
              "      border-bottom-color: var(--fill-color);\n",
              "    }\n",
              "  }\n",
              "</style>\n",
              "\n",
              "  <script>\n",
              "    async function quickchart(key) {\n",
              "      const quickchartButtonEl =\n",
              "        document.querySelector('#' + key + ' button');\n",
              "      quickchartButtonEl.disabled = true;  // To prevent multiple clicks.\n",
              "      quickchartButtonEl.classList.add('colab-df-spinner');\n",
              "      try {\n",
              "        const charts = await google.colab.kernel.invokeFunction(\n",
              "            'suggestCharts', [key], {});\n",
              "      } catch (error) {\n",
              "        console.error('Error during call to suggestCharts:', error);\n",
              "      }\n",
              "      quickchartButtonEl.classList.remove('colab-df-spinner');\n",
              "      quickchartButtonEl.classList.add('colab-df-quickchart-complete');\n",
              "    }\n",
              "    (() => {\n",
              "      let quickchartButtonEl =\n",
              "        document.querySelector('#df-367317b4-4ba6-4780-adb3-4fccf54228ce button');\n",
              "      quickchartButtonEl.style.display =\n",
              "        google.colab.kernel.accessAllowed ? 'block' : 'none';\n",
              "    })();\n",
              "  </script>\n",
              "</div>\n",
              "\n",
              "    </div>\n",
              "  </div>\n"
            ],
            "application/vnd.google.colaboratory.intrinsic+json": {
              "type": "dataframe",
              "variable_name": "sales",
              "summary": "{\n  \"name\": \"sales\",\n  \"rows\": 5040,\n  \"fields\": [\n    {\n      \"column\": \"Product Name\",\n      \"properties\": {\n        \"dtype\": \"category\",\n        \"num_unique_values\": 327,\n        \"samples\": [\n          \"Mughal Mini Dal Puri\",\n          \"TRS Spinach Leaf\",\n          \"Frozen Fish Koi\"\n        ],\n        \"semantic_type\": \"\",\n        \"description\": \"\"\n      }\n    },\n    {\n      \"column\": \"Product category\",\n      \"properties\": {\n        \"dtype\": \"category\",\n        \"num_unique_values\": 12,\n        \"samples\": [\n          \"Frozen Fish\",\n          \"Meats\",\n          \"Rice\"\n        ],\n        \"semantic_type\": \"\",\n        \"description\": \"\"\n      }\n    },\n    {\n      \"column\": \"Weight\",\n      \"properties\": {\n        \"dtype\": \"category\",\n        \"num_unique_values\": 56,\n        \"samples\": [\n          \"5 kg\",\n          \"0,1 kg\",\n          \"0,08 kg\"\n        ],\n        \"semantic_type\": \"\",\n        \"description\": \"\"\n      }\n    },\n    {\n      \"column\": \"Price per Piece (Kr)\",\n      \"properties\": {\n        \"dtype\": \"number\",\n        \"std\": 60.23677746437337,\n        \"min\": 1.39,\n        \"max\": 650.9,\n        \"num_unique_values\": 138,\n        \"samples\": [\n          16.49,\n          44.9,\n          34.9\n        ],\n        \"semantic_type\": \"\",\n        \"description\": \"\"\n      }\n    },\n    {\n      \"column\": \"Quantity\",\n      \"properties\": {\n        \"dtype\": \"number\",\n        \"std\": 33,\n        \"min\": 15,\n        \"max\": 250,\n        \"num_unique_values\": 33,\n        \"samples\": [\n          220,\n          70,\n          95\n        ],\n        \"semantic_type\": \"\",\n        \"description\": \"\"\n      }\n    },\n    {\n      \"column\": \"Buying Price\",\n      \"properties\": {\n        \"dtype\": \"number\",\n        \"std\": 4524.636840648416,\n        \"min\": 48.65,\n        \"max\": 42000.0,\n        \"num_unique_values\": 833,\n        \"samples\": [\n          17010.0,\n          20725.0,\n          599.5\n        ],\n        \"semantic_type\": \"\",\n        \"description\": \"\"\n      }\n    },\n    {\n      \"column\": \"Total Sell\",\n      \"properties\": {\n        \"dtype\": \"number\",\n        \"std\": 5882.0278928429625,\n        \"min\": 63.245,\n        \"max\": 54600.0,\n        \"num_unique_values\": 833,\n        \"samples\": [\n          22113.0,\n          26942.5,\n          779.35\n        ],\n        \"semantic_type\": \"\",\n        \"description\": \"\"\n      }\n    },\n    {\n      \"column\": \"Profit\",\n      \"properties\": {\n        \"dtype\": \"number\",\n        \"std\": 1357.3910521945224,\n        \"min\": 14.594999999999999,\n        \"max\": 12600.0,\n        \"num_unique_values\": 833,\n        \"samples\": [\n          5103.0,\n          6217.5,\n          179.85000000000002\n        ],\n        \"semantic_type\": \"\",\n        \"description\": \"\"\n      }\n    },\n    {\n      \"column\": \"Month\",\n      \"properties\": {\n        \"dtype\": \"date\",\n        \"min\": \"2024-01-23 00:00:00\",\n        \"max\": \"2024-12-23 00:00:00\",\n        \"num_unique_values\": 12,\n        \"samples\": [\n          \"2024-11-23 00:00:00\",\n          \"2024-10-23 00:00:00\",\n          \"2024-01-23 00:00:00\"\n        ],\n        \"semantic_type\": \"\",\n        \"description\": \"\"\n      }\n    }\n  ]\n}"
            }
          },
          "metadata": {},
          "execution_count": 6
        }
      ]
    },
    {
      "cell_type": "markdown",
      "source": [
        "## Assesing the Data"
      ],
      "metadata": {
        "id": "p4cPG31DBmEh"
      }
    },
    {
      "cell_type": "code",
      "source": [
        "sales.info()"
      ],
      "metadata": {
        "colab": {
          "base_uri": "https://localhost:8080/"
        },
        "id": "Hdr3Wky7-5mD",
        "outputId": "2b2f3217-3350-47d4-a093-55b923ec7051"
      },
      "execution_count": 7,
      "outputs": [
        {
          "output_type": "stream",
          "name": "stdout",
          "text": [
            "<class 'pandas.core.frame.DataFrame'>\n",
            "RangeIndex: 5040 entries, 0 to 5039\n",
            "Data columns (total 9 columns):\n",
            " #   Column                Non-Null Count  Dtype         \n",
            "---  ------                --------------  -----         \n",
            " 0   Product Name          5040 non-null   object        \n",
            " 1   Product category      5040 non-null   object        \n",
            " 2   Weight                5040 non-null   object        \n",
            " 3   Price per Piece (Kr)  5040 non-null   float64       \n",
            " 4   Quantity              5040 non-null   int64         \n",
            " 5   Buying Price          5040 non-null   float64       \n",
            " 6   Total Sell            5040 non-null   float64       \n",
            " 7   Profit                5040 non-null   float64       \n",
            " 8   Month                 5040 non-null   datetime64[ns]\n",
            "dtypes: datetime64[ns](1), float64(4), int64(1), object(3)\n",
            "memory usage: 354.5+ KB\n"
          ]
        }
      ]
    },
    {
      "cell_type": "code",
      "source": [
        "pd.isnull(sales).sum()"
      ],
      "metadata": {
        "colab": {
          "base_uri": "https://localhost:8080/",
          "height": 366
        },
        "id": "1rRuuwMNC22H",
        "outputId": "ed27715a-33f6-4b4d-c292-c7e3e916f650"
      },
      "execution_count": 8,
      "outputs": [
        {
          "output_type": "execute_result",
          "data": {
            "text/plain": [
              "Product Name            0\n",
              "Product category        0\n",
              "Weight                  0\n",
              "Price per Piece (Kr)    0\n",
              "Quantity                0\n",
              "Buying Price            0\n",
              "Total Sell              0\n",
              "Profit                  0\n",
              "Month                   0\n",
              "dtype: int64"
            ],
            "text/html": [
              "<div>\n",
              "<style scoped>\n",
              "    .dataframe tbody tr th:only-of-type {\n",
              "        vertical-align: middle;\n",
              "    }\n",
              "\n",
              "    .dataframe tbody tr th {\n",
              "        vertical-align: top;\n",
              "    }\n",
              "\n",
              "    .dataframe thead th {\n",
              "        text-align: right;\n",
              "    }\n",
              "</style>\n",
              "<table border=\"1\" class=\"dataframe\">\n",
              "  <thead>\n",
              "    <tr style=\"text-align: right;\">\n",
              "      <th></th>\n",
              "      <th>0</th>\n",
              "    </tr>\n",
              "  </thead>\n",
              "  <tbody>\n",
              "    <tr>\n",
              "      <th>Product Name</th>\n",
              "      <td>0</td>\n",
              "    </tr>\n",
              "    <tr>\n",
              "      <th>Product category</th>\n",
              "      <td>0</td>\n",
              "    </tr>\n",
              "    <tr>\n",
              "      <th>Weight</th>\n",
              "      <td>0</td>\n",
              "    </tr>\n",
              "    <tr>\n",
              "      <th>Price per Piece (Kr)</th>\n",
              "      <td>0</td>\n",
              "    </tr>\n",
              "    <tr>\n",
              "      <th>Quantity</th>\n",
              "      <td>0</td>\n",
              "    </tr>\n",
              "    <tr>\n",
              "      <th>Buying Price</th>\n",
              "      <td>0</td>\n",
              "    </tr>\n",
              "    <tr>\n",
              "      <th>Total Sell</th>\n",
              "      <td>0</td>\n",
              "    </tr>\n",
              "    <tr>\n",
              "      <th>Profit</th>\n",
              "      <td>0</td>\n",
              "    </tr>\n",
              "    <tr>\n",
              "      <th>Month</th>\n",
              "      <td>0</td>\n",
              "    </tr>\n",
              "  </tbody>\n",
              "</table>\n",
              "</div><br><label><b>dtype:</b> int64</label>"
            ]
          },
          "metadata": {},
          "execution_count": 8
        }
      ]
    },
    {
      "cell_type": "code",
      "source": [
        "sales['Product category'] = sales['Product category'].str.lower().str.title()\n",
        "sales.head(5)"
      ],
      "metadata": {
        "colab": {
          "base_uri": "https://localhost:8080/",
          "height": 206
        },
        "id": "PxXH7r6yOky8",
        "outputId": "9745deb3-4216-40da-bbf6-1f6e2024c322"
      },
      "execution_count": 13,
      "outputs": [
        {
          "output_type": "execute_result",
          "data": {
            "text/plain": [
              "          Product Name Product category Weight  Price per Piece (Kr)  \\\n",
              "0     Elate Sella Rice             Rice   5 kg                  98.0   \n",
              "1   Elate Basmati Rice             Rice   5 kg                 106.0   \n",
              "2    Delara Sella Rice             Rice   5 kg                  96.0   \n",
              "3  Delara Basmati Rice             Rice   5 kg                 102.0   \n",
              "4   Tilda Basmati Rice             Rice  10 kg                 350.0   \n",
              "\n",
              "   Quantity  Buying Price  Total Sell   Profit      Month  \n",
              "0       150       14700.0     19110.0   4410.0 2024-01-23  \n",
              "1       200       21200.0     27560.0   6360.0 2024-01-23  \n",
              "2       125       12000.0     15600.0   3600.0 2024-01-23  \n",
              "3       180       18360.0     23868.0   5508.0 2024-01-23  \n",
              "4       100       35000.0     45500.0  10500.0 2024-01-23  "
            ],
            "text/html": [
              "\n",
              "  <div id=\"df-edad941f-ed7c-43bd-9563-898ab6953ab3\" class=\"colab-df-container\">\n",
              "    <div>\n",
              "<style scoped>\n",
              "    .dataframe tbody tr th:only-of-type {\n",
              "        vertical-align: middle;\n",
              "    }\n",
              "\n",
              "    .dataframe tbody tr th {\n",
              "        vertical-align: top;\n",
              "    }\n",
              "\n",
              "    .dataframe thead th {\n",
              "        text-align: right;\n",
              "    }\n",
              "</style>\n",
              "<table border=\"1\" class=\"dataframe\">\n",
              "  <thead>\n",
              "    <tr style=\"text-align: right;\">\n",
              "      <th></th>\n",
              "      <th>Product Name</th>\n",
              "      <th>Product category</th>\n",
              "      <th>Weight</th>\n",
              "      <th>Price per Piece (Kr)</th>\n",
              "      <th>Quantity</th>\n",
              "      <th>Buying Price</th>\n",
              "      <th>Total Sell</th>\n",
              "      <th>Profit</th>\n",
              "      <th>Month</th>\n",
              "    </tr>\n",
              "  </thead>\n",
              "  <tbody>\n",
              "    <tr>\n",
              "      <th>0</th>\n",
              "      <td>Elate Sella Rice</td>\n",
              "      <td>Rice</td>\n",
              "      <td>5 kg</td>\n",
              "      <td>98.0</td>\n",
              "      <td>150</td>\n",
              "      <td>14700.0</td>\n",
              "      <td>19110.0</td>\n",
              "      <td>4410.0</td>\n",
              "      <td>2024-01-23</td>\n",
              "    </tr>\n",
              "    <tr>\n",
              "      <th>1</th>\n",
              "      <td>Elate Basmati Rice</td>\n",
              "      <td>Rice</td>\n",
              "      <td>5 kg</td>\n",
              "      <td>106.0</td>\n",
              "      <td>200</td>\n",
              "      <td>21200.0</td>\n",
              "      <td>27560.0</td>\n",
              "      <td>6360.0</td>\n",
              "      <td>2024-01-23</td>\n",
              "    </tr>\n",
              "    <tr>\n",
              "      <th>2</th>\n",
              "      <td>Delara Sella Rice</td>\n",
              "      <td>Rice</td>\n",
              "      <td>5 kg</td>\n",
              "      <td>96.0</td>\n",
              "      <td>125</td>\n",
              "      <td>12000.0</td>\n",
              "      <td>15600.0</td>\n",
              "      <td>3600.0</td>\n",
              "      <td>2024-01-23</td>\n",
              "    </tr>\n",
              "    <tr>\n",
              "      <th>3</th>\n",
              "      <td>Delara Basmati Rice</td>\n",
              "      <td>Rice</td>\n",
              "      <td>5 kg</td>\n",
              "      <td>102.0</td>\n",
              "      <td>180</td>\n",
              "      <td>18360.0</td>\n",
              "      <td>23868.0</td>\n",
              "      <td>5508.0</td>\n",
              "      <td>2024-01-23</td>\n",
              "    </tr>\n",
              "    <tr>\n",
              "      <th>4</th>\n",
              "      <td>Tilda Basmati Rice</td>\n",
              "      <td>Rice</td>\n",
              "      <td>10 kg</td>\n",
              "      <td>350.0</td>\n",
              "      <td>100</td>\n",
              "      <td>35000.0</td>\n",
              "      <td>45500.0</td>\n",
              "      <td>10500.0</td>\n",
              "      <td>2024-01-23</td>\n",
              "    </tr>\n",
              "  </tbody>\n",
              "</table>\n",
              "</div>\n",
              "    <div class=\"colab-df-buttons\">\n",
              "\n",
              "  <div class=\"colab-df-container\">\n",
              "    <button class=\"colab-df-convert\" onclick=\"convertToInteractive('df-edad941f-ed7c-43bd-9563-898ab6953ab3')\"\n",
              "            title=\"Convert this dataframe to an interactive table.\"\n",
              "            style=\"display:none;\">\n",
              "\n",
              "  <svg xmlns=\"http://www.w3.org/2000/svg\" height=\"24px\" viewBox=\"0 -960 960 960\">\n",
              "    <path d=\"M120-120v-720h720v720H120Zm60-500h600v-160H180v160Zm220 220h160v-160H400v160Zm0 220h160v-160H400v160ZM180-400h160v-160H180v160Zm440 0h160v-160H620v160ZM180-180h160v-160H180v160Zm440 0h160v-160H620v160Z\"/>\n",
              "  </svg>\n",
              "    </button>\n",
              "\n",
              "  <style>\n",
              "    .colab-df-container {\n",
              "      display:flex;\n",
              "      gap: 12px;\n",
              "    }\n",
              "\n",
              "    .colab-df-convert {\n",
              "      background-color: #E8F0FE;\n",
              "      border: none;\n",
              "      border-radius: 50%;\n",
              "      cursor: pointer;\n",
              "      display: none;\n",
              "      fill: #1967D2;\n",
              "      height: 32px;\n",
              "      padding: 0 0 0 0;\n",
              "      width: 32px;\n",
              "    }\n",
              "\n",
              "    .colab-df-convert:hover {\n",
              "      background-color: #E2EBFA;\n",
              "      box-shadow: 0px 1px 2px rgba(60, 64, 67, 0.3), 0px 1px 3px 1px rgba(60, 64, 67, 0.15);\n",
              "      fill: #174EA6;\n",
              "    }\n",
              "\n",
              "    .colab-df-buttons div {\n",
              "      margin-bottom: 4px;\n",
              "    }\n",
              "\n",
              "    [theme=dark] .colab-df-convert {\n",
              "      background-color: #3B4455;\n",
              "      fill: #D2E3FC;\n",
              "    }\n",
              "\n",
              "    [theme=dark] .colab-df-convert:hover {\n",
              "      background-color: #434B5C;\n",
              "      box-shadow: 0px 1px 3px 1px rgba(0, 0, 0, 0.15);\n",
              "      filter: drop-shadow(0px 1px 2px rgba(0, 0, 0, 0.3));\n",
              "      fill: #FFFFFF;\n",
              "    }\n",
              "  </style>\n",
              "\n",
              "    <script>\n",
              "      const buttonEl =\n",
              "        document.querySelector('#df-edad941f-ed7c-43bd-9563-898ab6953ab3 button.colab-df-convert');\n",
              "      buttonEl.style.display =\n",
              "        google.colab.kernel.accessAllowed ? 'block' : 'none';\n",
              "\n",
              "      async function convertToInteractive(key) {\n",
              "        const element = document.querySelector('#df-edad941f-ed7c-43bd-9563-898ab6953ab3');\n",
              "        const dataTable =\n",
              "          await google.colab.kernel.invokeFunction('convertToInteractive',\n",
              "                                                    [key], {});\n",
              "        if (!dataTable) return;\n",
              "\n",
              "        const docLinkHtml = 'Like what you see? Visit the ' +\n",
              "          '<a target=\"_blank\" href=https://colab.research.google.com/notebooks/data_table.ipynb>data table notebook</a>'\n",
              "          + ' to learn more about interactive tables.';\n",
              "        element.innerHTML = '';\n",
              "        dataTable['output_type'] = 'display_data';\n",
              "        await google.colab.output.renderOutput(dataTable, element);\n",
              "        const docLink = document.createElement('div');\n",
              "        docLink.innerHTML = docLinkHtml;\n",
              "        element.appendChild(docLink);\n",
              "      }\n",
              "    </script>\n",
              "  </div>\n",
              "\n",
              "\n",
              "<div id=\"df-76cac51f-8840-40ae-a662-e3e9eefdf283\">\n",
              "  <button class=\"colab-df-quickchart\" onclick=\"quickchart('df-76cac51f-8840-40ae-a662-e3e9eefdf283')\"\n",
              "            title=\"Suggest charts\"\n",
              "            style=\"display:none;\">\n",
              "\n",
              "<svg xmlns=\"http://www.w3.org/2000/svg\" height=\"24px\"viewBox=\"0 0 24 24\"\n",
              "     width=\"24px\">\n",
              "    <g>\n",
              "        <path d=\"M19 3H5c-1.1 0-2 .9-2 2v14c0 1.1.9 2 2 2h14c1.1 0 2-.9 2-2V5c0-1.1-.9-2-2-2zM9 17H7v-7h2v7zm4 0h-2V7h2v10zm4 0h-2v-4h2v4z\"/>\n",
              "    </g>\n",
              "</svg>\n",
              "  </button>\n",
              "\n",
              "<style>\n",
              "  .colab-df-quickchart {\n",
              "      --bg-color: #E8F0FE;\n",
              "      --fill-color: #1967D2;\n",
              "      --hover-bg-color: #E2EBFA;\n",
              "      --hover-fill-color: #174EA6;\n",
              "      --disabled-fill-color: #AAA;\n",
              "      --disabled-bg-color: #DDD;\n",
              "  }\n",
              "\n",
              "  [theme=dark] .colab-df-quickchart {\n",
              "      --bg-color: #3B4455;\n",
              "      --fill-color: #D2E3FC;\n",
              "      --hover-bg-color: #434B5C;\n",
              "      --hover-fill-color: #FFFFFF;\n",
              "      --disabled-bg-color: #3B4455;\n",
              "      --disabled-fill-color: #666;\n",
              "  }\n",
              "\n",
              "  .colab-df-quickchart {\n",
              "    background-color: var(--bg-color);\n",
              "    border: none;\n",
              "    border-radius: 50%;\n",
              "    cursor: pointer;\n",
              "    display: none;\n",
              "    fill: var(--fill-color);\n",
              "    height: 32px;\n",
              "    padding: 0;\n",
              "    width: 32px;\n",
              "  }\n",
              "\n",
              "  .colab-df-quickchart:hover {\n",
              "    background-color: var(--hover-bg-color);\n",
              "    box-shadow: 0 1px 2px rgba(60, 64, 67, 0.3), 0 1px 3px 1px rgba(60, 64, 67, 0.15);\n",
              "    fill: var(--button-hover-fill-color);\n",
              "  }\n",
              "\n",
              "  .colab-df-quickchart-complete:disabled,\n",
              "  .colab-df-quickchart-complete:disabled:hover {\n",
              "    background-color: var(--disabled-bg-color);\n",
              "    fill: var(--disabled-fill-color);\n",
              "    box-shadow: none;\n",
              "  }\n",
              "\n",
              "  .colab-df-spinner {\n",
              "    border: 2px solid var(--fill-color);\n",
              "    border-color: transparent;\n",
              "    border-bottom-color: var(--fill-color);\n",
              "    animation:\n",
              "      spin 1s steps(1) infinite;\n",
              "  }\n",
              "\n",
              "  @keyframes spin {\n",
              "    0% {\n",
              "      border-color: transparent;\n",
              "      border-bottom-color: var(--fill-color);\n",
              "      border-left-color: var(--fill-color);\n",
              "    }\n",
              "    20% {\n",
              "      border-color: transparent;\n",
              "      border-left-color: var(--fill-color);\n",
              "      border-top-color: var(--fill-color);\n",
              "    }\n",
              "    30% {\n",
              "      border-color: transparent;\n",
              "      border-left-color: var(--fill-color);\n",
              "      border-top-color: var(--fill-color);\n",
              "      border-right-color: var(--fill-color);\n",
              "    }\n",
              "    40% {\n",
              "      border-color: transparent;\n",
              "      border-right-color: var(--fill-color);\n",
              "      border-top-color: var(--fill-color);\n",
              "    }\n",
              "    60% {\n",
              "      border-color: transparent;\n",
              "      border-right-color: var(--fill-color);\n",
              "    }\n",
              "    80% {\n",
              "      border-color: transparent;\n",
              "      border-right-color: var(--fill-color);\n",
              "      border-bottom-color: var(--fill-color);\n",
              "    }\n",
              "    90% {\n",
              "      border-color: transparent;\n",
              "      border-bottom-color: var(--fill-color);\n",
              "    }\n",
              "  }\n",
              "</style>\n",
              "\n",
              "  <script>\n",
              "    async function quickchart(key) {\n",
              "      const quickchartButtonEl =\n",
              "        document.querySelector('#' + key + ' button');\n",
              "      quickchartButtonEl.disabled = true;  // To prevent multiple clicks.\n",
              "      quickchartButtonEl.classList.add('colab-df-spinner');\n",
              "      try {\n",
              "        const charts = await google.colab.kernel.invokeFunction(\n",
              "            'suggestCharts', [key], {});\n",
              "      } catch (error) {\n",
              "        console.error('Error during call to suggestCharts:', error);\n",
              "      }\n",
              "      quickchartButtonEl.classList.remove('colab-df-spinner');\n",
              "      quickchartButtonEl.classList.add('colab-df-quickchart-complete');\n",
              "    }\n",
              "    (() => {\n",
              "      let quickchartButtonEl =\n",
              "        document.querySelector('#df-76cac51f-8840-40ae-a662-e3e9eefdf283 button');\n",
              "      quickchartButtonEl.style.display =\n",
              "        google.colab.kernel.accessAllowed ? 'block' : 'none';\n",
              "    })();\n",
              "  </script>\n",
              "</div>\n",
              "\n",
              "    </div>\n",
              "  </div>\n"
            ],
            "application/vnd.google.colaboratory.intrinsic+json": {
              "type": "dataframe",
              "variable_name": "sales",
              "summary": "{\n  \"name\": \"sales\",\n  \"rows\": 5040,\n  \"fields\": [\n    {\n      \"column\": \"Product Name\",\n      \"properties\": {\n        \"dtype\": \"category\",\n        \"num_unique_values\": 327,\n        \"samples\": [\n          \"Mughal Mini Dal Puri\",\n          \"TRS Spinach Leaf\",\n          \"Frozen Fish Koi\"\n        ],\n        \"semantic_type\": \"\",\n        \"description\": \"\"\n      }\n    },\n    {\n      \"column\": \"Product category\",\n      \"properties\": {\n        \"dtype\": \"category\",\n        \"num_unique_values\": 11,\n        \"samples\": [\n          \"Spices\",\n          \"Rice\",\n          \"Frozen Fish\"\n        ],\n        \"semantic_type\": \"\",\n        \"description\": \"\"\n      }\n    },\n    {\n      \"column\": \"Weight\",\n      \"properties\": {\n        \"dtype\": \"category\",\n        \"num_unique_values\": 56,\n        \"samples\": [\n          \"5 kg\",\n          \"0,1 kg\",\n          \"0,08 kg\"\n        ],\n        \"semantic_type\": \"\",\n        \"description\": \"\"\n      }\n    },\n    {\n      \"column\": \"Price per Piece (Kr)\",\n      \"properties\": {\n        \"dtype\": \"number\",\n        \"std\": 60.23677746437337,\n        \"min\": 1.39,\n        \"max\": 650.9,\n        \"num_unique_values\": 138,\n        \"samples\": [\n          16.49,\n          44.9,\n          34.9\n        ],\n        \"semantic_type\": \"\",\n        \"description\": \"\"\n      }\n    },\n    {\n      \"column\": \"Quantity\",\n      \"properties\": {\n        \"dtype\": \"number\",\n        \"std\": 33,\n        \"min\": 15,\n        \"max\": 250,\n        \"num_unique_values\": 33,\n        \"samples\": [\n          220,\n          70,\n          95\n        ],\n        \"semantic_type\": \"\",\n        \"description\": \"\"\n      }\n    },\n    {\n      \"column\": \"Buying Price\",\n      \"properties\": {\n        \"dtype\": \"number\",\n        \"std\": 4524.636840648416,\n        \"min\": 48.65,\n        \"max\": 42000.0,\n        \"num_unique_values\": 833,\n        \"samples\": [\n          17010.0,\n          20725.0,\n          599.5\n        ],\n        \"semantic_type\": \"\",\n        \"description\": \"\"\n      }\n    },\n    {\n      \"column\": \"Total Sell\",\n      \"properties\": {\n        \"dtype\": \"number\",\n        \"std\": 5882.0278928429625,\n        \"min\": 63.245,\n        \"max\": 54600.0,\n        \"num_unique_values\": 833,\n        \"samples\": [\n          22113.0,\n          26942.5,\n          779.35\n        ],\n        \"semantic_type\": \"\",\n        \"description\": \"\"\n      }\n    },\n    {\n      \"column\": \"Profit\",\n      \"properties\": {\n        \"dtype\": \"number\",\n        \"std\": 1357.3910521945224,\n        \"min\": 14.594999999999999,\n        \"max\": 12600.0,\n        \"num_unique_values\": 833,\n        \"samples\": [\n          5103.0,\n          6217.5,\n          179.85000000000002\n        ],\n        \"semantic_type\": \"\",\n        \"description\": \"\"\n      }\n    },\n    {\n      \"column\": \"Month\",\n      \"properties\": {\n        \"dtype\": \"date\",\n        \"min\": \"2024-01-23 00:00:00\",\n        \"max\": \"2024-12-23 00:00:00\",\n        \"num_unique_values\": 12,\n        \"samples\": [\n          \"2024-11-23 00:00:00\",\n          \"2024-10-23 00:00:00\",\n          \"2024-01-23 00:00:00\"\n        ],\n        \"semantic_type\": \"\",\n        \"description\": \"\"\n      }\n    }\n  ]\n}"
            }
          },
          "metadata": {},
          "execution_count": 13
        }
      ]
    },
    {
      "cell_type": "markdown",
      "source": [
        "This dataset contains 5040 entries with 9 columns, all complete with no missing values. The data types are correctly assigned: categorical columns are `object`, numerical columns are `float64` or `int64`, and the `Month` column is in `datetime64[ns]` format. Overall, the dataset is well-structured and ready for comprehensive sales and profitability analysis."
      ],
      "metadata": {
        "id": "tco4ikK_Ca_Y"
      }
    },
    {
      "cell_type": "code",
      "source": [
        "sales.describe()"
      ],
      "metadata": {
        "colab": {
          "base_uri": "https://localhost:8080/",
          "height": 300
        },
        "id": "7NjOXPyqCv6e",
        "outputId": "d11e7a19-86b1-4fad-c87d-f9779cc2d1db"
      },
      "execution_count": 19,
      "outputs": [
        {
          "output_type": "execute_result",
          "data": {
            "text/plain": [
              "       Price per Piece (Kr)     Quantity  Buying Price    Total Sell  \\\n",
              "count           5040.000000  5040.000000   5040.000000   5040.000000   \n",
              "mean              43.990905    61.903770   2858.734504   3716.354855   \n",
              "min                1.390000    15.000000     48.650000     63.245000   \n",
              "25%               13.900000    35.000000    647.500000    841.750000   \n",
              "50%               26.900000    50.000000   1431.500000   1860.950000   \n",
              "75%               48.900000    90.000000   2745.000000   3568.500000   \n",
              "max              650.900000   250.000000  42000.000000  54600.000000   \n",
              "std               60.236777    33.409658   4524.636841   5882.027893   \n",
              "\n",
              "             Profit                Month  \n",
              "count   5040.000000                 5040  \n",
              "mean     857.620351  2024-07-08 08:00:00  \n",
              "min       14.595000  2024-01-23 00:00:00  \n",
              "25%      194.250000  2024-04-15 06:00:00  \n",
              "50%      429.450000  2024-07-08 00:00:00  \n",
              "75%      823.500000  2024-09-30 12:00:00  \n",
              "max    12600.000000  2024-12-23 00:00:00  \n",
              "std     1357.391052                  NaN  "
            ],
            "text/html": [
              "\n",
              "  <div id=\"df-e9bdeeb0-6656-4be3-822f-5ccac629334e\" class=\"colab-df-container\">\n",
              "    <div>\n",
              "<style scoped>\n",
              "    .dataframe tbody tr th:only-of-type {\n",
              "        vertical-align: middle;\n",
              "    }\n",
              "\n",
              "    .dataframe tbody tr th {\n",
              "        vertical-align: top;\n",
              "    }\n",
              "\n",
              "    .dataframe thead th {\n",
              "        text-align: right;\n",
              "    }\n",
              "</style>\n",
              "<table border=\"1\" class=\"dataframe\">\n",
              "  <thead>\n",
              "    <tr style=\"text-align: right;\">\n",
              "      <th></th>\n",
              "      <th>Price per Piece (Kr)</th>\n",
              "      <th>Quantity</th>\n",
              "      <th>Buying Price</th>\n",
              "      <th>Total Sell</th>\n",
              "      <th>Profit</th>\n",
              "      <th>Month</th>\n",
              "    </tr>\n",
              "  </thead>\n",
              "  <tbody>\n",
              "    <tr>\n",
              "      <th>count</th>\n",
              "      <td>5040.000000</td>\n",
              "      <td>5040.000000</td>\n",
              "      <td>5040.000000</td>\n",
              "      <td>5040.000000</td>\n",
              "      <td>5040.000000</td>\n",
              "      <td>5040</td>\n",
              "    </tr>\n",
              "    <tr>\n",
              "      <th>mean</th>\n",
              "      <td>43.990905</td>\n",
              "      <td>61.903770</td>\n",
              "      <td>2858.734504</td>\n",
              "      <td>3716.354855</td>\n",
              "      <td>857.620351</td>\n",
              "      <td>2024-07-08 08:00:00</td>\n",
              "    </tr>\n",
              "    <tr>\n",
              "      <th>min</th>\n",
              "      <td>1.390000</td>\n",
              "      <td>15.000000</td>\n",
              "      <td>48.650000</td>\n",
              "      <td>63.245000</td>\n",
              "      <td>14.595000</td>\n",
              "      <td>2024-01-23 00:00:00</td>\n",
              "    </tr>\n",
              "    <tr>\n",
              "      <th>25%</th>\n",
              "      <td>13.900000</td>\n",
              "      <td>35.000000</td>\n",
              "      <td>647.500000</td>\n",
              "      <td>841.750000</td>\n",
              "      <td>194.250000</td>\n",
              "      <td>2024-04-15 06:00:00</td>\n",
              "    </tr>\n",
              "    <tr>\n",
              "      <th>50%</th>\n",
              "      <td>26.900000</td>\n",
              "      <td>50.000000</td>\n",
              "      <td>1431.500000</td>\n",
              "      <td>1860.950000</td>\n",
              "      <td>429.450000</td>\n",
              "      <td>2024-07-08 00:00:00</td>\n",
              "    </tr>\n",
              "    <tr>\n",
              "      <th>75%</th>\n",
              "      <td>48.900000</td>\n",
              "      <td>90.000000</td>\n",
              "      <td>2745.000000</td>\n",
              "      <td>3568.500000</td>\n",
              "      <td>823.500000</td>\n",
              "      <td>2024-09-30 12:00:00</td>\n",
              "    </tr>\n",
              "    <tr>\n",
              "      <th>max</th>\n",
              "      <td>650.900000</td>\n",
              "      <td>250.000000</td>\n",
              "      <td>42000.000000</td>\n",
              "      <td>54600.000000</td>\n",
              "      <td>12600.000000</td>\n",
              "      <td>2024-12-23 00:00:00</td>\n",
              "    </tr>\n",
              "    <tr>\n",
              "      <th>std</th>\n",
              "      <td>60.236777</td>\n",
              "      <td>33.409658</td>\n",
              "      <td>4524.636841</td>\n",
              "      <td>5882.027893</td>\n",
              "      <td>1357.391052</td>\n",
              "      <td>NaN</td>\n",
              "    </tr>\n",
              "  </tbody>\n",
              "</table>\n",
              "</div>\n",
              "    <div class=\"colab-df-buttons\">\n",
              "\n",
              "  <div class=\"colab-df-container\">\n",
              "    <button class=\"colab-df-convert\" onclick=\"convertToInteractive('df-e9bdeeb0-6656-4be3-822f-5ccac629334e')\"\n",
              "            title=\"Convert this dataframe to an interactive table.\"\n",
              "            style=\"display:none;\">\n",
              "\n",
              "  <svg xmlns=\"http://www.w3.org/2000/svg\" height=\"24px\" viewBox=\"0 -960 960 960\">\n",
              "    <path d=\"M120-120v-720h720v720H120Zm60-500h600v-160H180v160Zm220 220h160v-160H400v160Zm0 220h160v-160H400v160ZM180-400h160v-160H180v160Zm440 0h160v-160H620v160ZM180-180h160v-160H180v160Zm440 0h160v-160H620v160Z\"/>\n",
              "  </svg>\n",
              "    </button>\n",
              "\n",
              "  <style>\n",
              "    .colab-df-container {\n",
              "      display:flex;\n",
              "      gap: 12px;\n",
              "    }\n",
              "\n",
              "    .colab-df-convert {\n",
              "      background-color: #E8F0FE;\n",
              "      border: none;\n",
              "      border-radius: 50%;\n",
              "      cursor: pointer;\n",
              "      display: none;\n",
              "      fill: #1967D2;\n",
              "      height: 32px;\n",
              "      padding: 0 0 0 0;\n",
              "      width: 32px;\n",
              "    }\n",
              "\n",
              "    .colab-df-convert:hover {\n",
              "      background-color: #E2EBFA;\n",
              "      box-shadow: 0px 1px 2px rgba(60, 64, 67, 0.3), 0px 1px 3px 1px rgba(60, 64, 67, 0.15);\n",
              "      fill: #174EA6;\n",
              "    }\n",
              "\n",
              "    .colab-df-buttons div {\n",
              "      margin-bottom: 4px;\n",
              "    }\n",
              "\n",
              "    [theme=dark] .colab-df-convert {\n",
              "      background-color: #3B4455;\n",
              "      fill: #D2E3FC;\n",
              "    }\n",
              "\n",
              "    [theme=dark] .colab-df-convert:hover {\n",
              "      background-color: #434B5C;\n",
              "      box-shadow: 0px 1px 3px 1px rgba(0, 0, 0, 0.15);\n",
              "      filter: drop-shadow(0px 1px 2px rgba(0, 0, 0, 0.3));\n",
              "      fill: #FFFFFF;\n",
              "    }\n",
              "  </style>\n",
              "\n",
              "    <script>\n",
              "      const buttonEl =\n",
              "        document.querySelector('#df-e9bdeeb0-6656-4be3-822f-5ccac629334e button.colab-df-convert');\n",
              "      buttonEl.style.display =\n",
              "        google.colab.kernel.accessAllowed ? 'block' : 'none';\n",
              "\n",
              "      async function convertToInteractive(key) {\n",
              "        const element = document.querySelector('#df-e9bdeeb0-6656-4be3-822f-5ccac629334e');\n",
              "        const dataTable =\n",
              "          await google.colab.kernel.invokeFunction('convertToInteractive',\n",
              "                                                    [key], {});\n",
              "        if (!dataTable) return;\n",
              "\n",
              "        const docLinkHtml = 'Like what you see? Visit the ' +\n",
              "          '<a target=\"_blank\" href=https://colab.research.google.com/notebooks/data_table.ipynb>data table notebook</a>'\n",
              "          + ' to learn more about interactive tables.';\n",
              "        element.innerHTML = '';\n",
              "        dataTable['output_type'] = 'display_data';\n",
              "        await google.colab.output.renderOutput(dataTable, element);\n",
              "        const docLink = document.createElement('div');\n",
              "        docLink.innerHTML = docLinkHtml;\n",
              "        element.appendChild(docLink);\n",
              "      }\n",
              "    </script>\n",
              "  </div>\n",
              "\n",
              "\n",
              "<div id=\"df-13bf1a5a-6a41-46f5-91be-d13cef92284e\">\n",
              "  <button class=\"colab-df-quickchart\" onclick=\"quickchart('df-13bf1a5a-6a41-46f5-91be-d13cef92284e')\"\n",
              "            title=\"Suggest charts\"\n",
              "            style=\"display:none;\">\n",
              "\n",
              "<svg xmlns=\"http://www.w3.org/2000/svg\" height=\"24px\"viewBox=\"0 0 24 24\"\n",
              "     width=\"24px\">\n",
              "    <g>\n",
              "        <path d=\"M19 3H5c-1.1 0-2 .9-2 2v14c0 1.1.9 2 2 2h14c1.1 0 2-.9 2-2V5c0-1.1-.9-2-2-2zM9 17H7v-7h2v7zm4 0h-2V7h2v10zm4 0h-2v-4h2v4z\"/>\n",
              "    </g>\n",
              "</svg>\n",
              "  </button>\n",
              "\n",
              "<style>\n",
              "  .colab-df-quickchart {\n",
              "      --bg-color: #E8F0FE;\n",
              "      --fill-color: #1967D2;\n",
              "      --hover-bg-color: #E2EBFA;\n",
              "      --hover-fill-color: #174EA6;\n",
              "      --disabled-fill-color: #AAA;\n",
              "      --disabled-bg-color: #DDD;\n",
              "  }\n",
              "\n",
              "  [theme=dark] .colab-df-quickchart {\n",
              "      --bg-color: #3B4455;\n",
              "      --fill-color: #D2E3FC;\n",
              "      --hover-bg-color: #434B5C;\n",
              "      --hover-fill-color: #FFFFFF;\n",
              "      --disabled-bg-color: #3B4455;\n",
              "      --disabled-fill-color: #666;\n",
              "  }\n",
              "\n",
              "  .colab-df-quickchart {\n",
              "    background-color: var(--bg-color);\n",
              "    border: none;\n",
              "    border-radius: 50%;\n",
              "    cursor: pointer;\n",
              "    display: none;\n",
              "    fill: var(--fill-color);\n",
              "    height: 32px;\n",
              "    padding: 0;\n",
              "    width: 32px;\n",
              "  }\n",
              "\n",
              "  .colab-df-quickchart:hover {\n",
              "    background-color: var(--hover-bg-color);\n",
              "    box-shadow: 0 1px 2px rgba(60, 64, 67, 0.3), 0 1px 3px 1px rgba(60, 64, 67, 0.15);\n",
              "    fill: var(--button-hover-fill-color);\n",
              "  }\n",
              "\n",
              "  .colab-df-quickchart-complete:disabled,\n",
              "  .colab-df-quickchart-complete:disabled:hover {\n",
              "    background-color: var(--disabled-bg-color);\n",
              "    fill: var(--disabled-fill-color);\n",
              "    box-shadow: none;\n",
              "  }\n",
              "\n",
              "  .colab-df-spinner {\n",
              "    border: 2px solid var(--fill-color);\n",
              "    border-color: transparent;\n",
              "    border-bottom-color: var(--fill-color);\n",
              "    animation:\n",
              "      spin 1s steps(1) infinite;\n",
              "  }\n",
              "\n",
              "  @keyframes spin {\n",
              "    0% {\n",
              "      border-color: transparent;\n",
              "      border-bottom-color: var(--fill-color);\n",
              "      border-left-color: var(--fill-color);\n",
              "    }\n",
              "    20% {\n",
              "      border-color: transparent;\n",
              "      border-left-color: var(--fill-color);\n",
              "      border-top-color: var(--fill-color);\n",
              "    }\n",
              "    30% {\n",
              "      border-color: transparent;\n",
              "      border-left-color: var(--fill-color);\n",
              "      border-top-color: var(--fill-color);\n",
              "      border-right-color: var(--fill-color);\n",
              "    }\n",
              "    40% {\n",
              "      border-color: transparent;\n",
              "      border-right-color: var(--fill-color);\n",
              "      border-top-color: var(--fill-color);\n",
              "    }\n",
              "    60% {\n",
              "      border-color: transparent;\n",
              "      border-right-color: var(--fill-color);\n",
              "    }\n",
              "    80% {\n",
              "      border-color: transparent;\n",
              "      border-right-color: var(--fill-color);\n",
              "      border-bottom-color: var(--fill-color);\n",
              "    }\n",
              "    90% {\n",
              "      border-color: transparent;\n",
              "      border-bottom-color: var(--fill-color);\n",
              "    }\n",
              "  }\n",
              "</style>\n",
              "\n",
              "  <script>\n",
              "    async function quickchart(key) {\n",
              "      const quickchartButtonEl =\n",
              "        document.querySelector('#' + key + ' button');\n",
              "      quickchartButtonEl.disabled = true;  // To prevent multiple clicks.\n",
              "      quickchartButtonEl.classList.add('colab-df-spinner');\n",
              "      try {\n",
              "        const charts = await google.colab.kernel.invokeFunction(\n",
              "            'suggestCharts', [key], {});\n",
              "      } catch (error) {\n",
              "        console.error('Error during call to suggestCharts:', error);\n",
              "      }\n",
              "      quickchartButtonEl.classList.remove('colab-df-spinner');\n",
              "      quickchartButtonEl.classList.add('colab-df-quickchart-complete');\n",
              "    }\n",
              "    (() => {\n",
              "      let quickchartButtonEl =\n",
              "        document.querySelector('#df-13bf1a5a-6a41-46f5-91be-d13cef92284e button');\n",
              "      quickchartButtonEl.style.display =\n",
              "        google.colab.kernel.accessAllowed ? 'block' : 'none';\n",
              "    })();\n",
              "  </script>\n",
              "</div>\n",
              "\n",
              "    </div>\n",
              "  </div>\n"
            ],
            "application/vnd.google.colaboratory.intrinsic+json": {
              "type": "dataframe",
              "summary": "{\n  \"name\": \"sales\",\n  \"rows\": 8,\n  \"fields\": [\n    {\n      \"column\": \"Price per Piece (Kr)\",\n      \"properties\": {\n        \"dtype\": \"number\",\n        \"std\": 1752.679565524168,\n        \"min\": 1.39,\n        \"max\": 5040.0,\n        \"num_unique_values\": 8,\n        \"samples\": [\n          43.99090476190476,\n          48.9,\n          5040.0\n        ],\n        \"semantic_type\": \"\",\n        \"description\": \"\"\n      }\n    },\n    {\n      \"column\": \"Quantity\",\n      \"properties\": {\n        \"dtype\": \"number\",\n        \"std\": 1756.4405282233454,\n        \"min\": 15.0,\n        \"max\": 5040.0,\n        \"num_unique_values\": 8,\n        \"samples\": [\n          61.90376984126984,\n          90.0,\n          5040.0\n        ],\n        \"semantic_type\": \"\",\n        \"description\": \"\"\n      }\n    },\n    {\n      \"column\": \"Buying Price\",\n      \"properties\": {\n        \"dtype\": \"number\",\n        \"std\": 14084.185018329588,\n        \"min\": 48.65,\n        \"max\": 42000.0,\n        \"num_unique_values\": 8,\n        \"samples\": [\n          2858.734503968254,\n          2745.0,\n          5040.0\n        ],\n        \"semantic_type\": \"\",\n        \"description\": \"\"\n      }\n    },\n    {\n      \"column\": \"Total Sell\",\n      \"properties\": {\n        \"dtype\": \"number\",\n        \"std\": 18353.569053293257,\n        \"min\": 63.245,\n        \"max\": 54600.0,\n        \"num_unique_values\": 8,\n        \"samples\": [\n          3716.35485515873,\n          3568.5,\n          5040.0\n        ],\n        \"semantic_type\": \"\",\n        \"description\": \"\"\n      }\n    },\n    {\n      \"column\": \"Profit\",\n      \"properties\": {\n        \"dtype\": \"number\",\n        \"std\": 4323.34806370272,\n        \"min\": 14.594999999999999,\n        \"max\": 12600.0,\n        \"num_unique_values\": 8,\n        \"samples\": [\n          857.6203511904763,\n          823.5,\n          5040.0\n        ],\n        \"semantic_type\": \"\",\n        \"description\": \"\"\n      }\n    },\n    {\n      \"column\": \"Month\",\n      \"properties\": {\n        \"dtype\": \"date\",\n        \"min\": \"1970-01-01 00:00:00.000005040\",\n        \"max\": \"2024-12-23 00:00:00\",\n        \"num_unique_values\": 7,\n        \"samples\": [\n          \"5040\",\n          \"2024-07-08 08:00:00\",\n          \"2024-09-30 12:00:00\"\n        ],\n        \"semantic_type\": \"\",\n        \"description\": \"\"\n      }\n    }\n  ]\n}"
            }
          },
          "metadata": {},
          "execution_count": 19
        }
      ]
    },
    {
      "cell_type": "markdown",
      "source": [
        "# Exploratory Data Analysis"
      ],
      "metadata": {
        "id": "QNvXPisyEgea"
      }
    },
    {
      "cell_type": "markdown",
      "source": [
        "Average price in every product category"
      ],
      "metadata": {
        "id": "wcChlzgpFl96"
      }
    },
    {
      "cell_type": "code",
      "source": [
        "product_stats = sales.groupby('Product category').agg(\n",
        "    Count=('Product category', 'size'),\n",
        "    svg_price=('Price per Piece (Kr)', 'mean')\n",
        ").reset_index()\n",
        "\n",
        "# Sort the table by 'Count' in ascending order\n",
        "product_stats_sorted = product_stats.sort_values(by='Count', ascending=True)\n",
        "\n",
        "print(product_stats_sorted)"
      ],
      "metadata": {
        "colab": {
          "base_uri": "https://localhost:8080/"
        },
        "id": "2uQwQA33GAmA",
        "outputId": "d10972ed-2a82-43ca-bf28-b5e0210f1bda"
      },
      "execution_count": 20,
      "outputs": [
        {
          "output_type": "stream",
          "name": "stdout",
          "text": [
            "     Product category  Count   svg_price\n",
            "0            Beverage     60   14.618000\n",
            "7                Rice     60  150.400000\n",
            "5               Meats     84   84.042857\n",
            "8               Sauce     84   22.042857\n",
            "6             Pickles    144   24.233333\n",
            "2        Frozen Foods    228   20.584211\n",
            "3   Frozen Vegetables    288   17.316667\n",
            "9              Snacks    360   10.674000\n",
            "1         Frozen Fish    840   79.671429\n",
            "4           Groceries   1044   44.144368\n",
            "10             Spices   1848   39.436429\n"
          ]
        }
      ]
    },
    {
      "cell_type": "markdown",
      "source": [
        "## Visualization & Explanatory Analysis"
      ],
      "metadata": {
        "id": "oTdyUGRBI4D4"
      }
    },
    {
      "cell_type": "markdown",
      "source": [
        "#### Sales Performance Analysis"
      ],
      "metadata": {
        "id": "i92FSegzI7Af"
      }
    },
    {
      "cell_type": "code",
      "source": [
        "# Group by 'Product category' and calculate the total sales\n",
        "sales_by_category = sales.groupby('Product category')['Total Sell'].sum().reset_index()\n",
        "\n",
        "# Sort the data by 'Total Sell' in descending order and display top 5\n",
        "top_5_sales_by_category = sales_by_category.sort_values('Total Sell', ascending=False).head(5)\n",
        "\n",
        "# Display the result in a table\n",
        "print(top_5_sales_by_category)\n"
      ],
      "metadata": {
        "colab": {
          "base_uri": "https://localhost:8080/"
        },
        "id": "m0fJkqCxKtld",
        "outputId": "ff10d3ce-da52-426a-c0e5-afc041ea40e7"
      },
      "execution_count": 21,
      "outputs": [
        {
          "output_type": "stream",
          "name": "stdout",
          "text": [
            "   Product category   Total Sell\n",
            "10           Spices  8237239.855\n",
            "1       Frozen Fish  4262378.900\n",
            "4         Groceries  2286131.120\n",
            "7              Rice  1542866.000\n",
            "5             Meats  1359053.800\n"
          ]
        }
      ]
    },
    {
      "cell_type": "code",
      "source": [
        "# Total sales by product category\n",
        "sales_by_category = sales.groupby('Product category')['Total Sell'].sum().reset_index()\n",
        "\n",
        "# Sort the data by total sales in descending order and select the top 5\n",
        "top_5_sales_by_category = sales_by_category.sort_values('Total Sell', ascending=False).head(5)\n",
        "\n",
        "plt.figure(figsize=(10, 6))\n",
        "sns.barplot(x='Total Sell', y='Product category', data=top_5_sales_by_category, palette='viridis', hue='Product category')\n",
        "plt.xlabel('Total Sell')\n",
        "plt.ylabel('Product Category')\n",
        "plt.title('Top 5 Total Sales by Product Category')\n",
        "plt.show()"
      ],
      "metadata": {
        "colab": {
          "base_uri": "https://localhost:8080/",
          "height": 564
        },
        "id": "MNmWL2AyGeXR",
        "outputId": "1aa8acf9-493f-4b3a-b6e0-0cb80b1b3e0c"
      },
      "execution_count": 22,
      "outputs": [
        {
          "output_type": "display_data",
          "data": {
            "text/plain": [
              "<Figure size 1000x600 with 1 Axes>"
            ],
            "image/png": "[encoded data removed]"
          },
          "metadata": {}
        }
      ]
    },
    {
      "cell_type": "markdown",
      "source": [
        "#### Profitability Analysis"
      ],
      "metadata": {
        "id": "fLjgIvY2Lk1x"
      }
    },
    {
      "cell_type": "code",
      "source": [
        "# Total profit by product category\n",
        "profit_by_category = sales.groupby('Product category')['Profit'].sum().reset_index()\n",
        "\n",
        "top_5_profit_by_category = profit_by_category.sort_values('Profit', ascending=False).head(5)\n",
        "\n",
        "# Plotting profit by category\n",
        "plt.figure(figsize=(10, 6))\n",
        "sns.barplot(x='Profit', y='Product category', data=top_5_profit_by_category, palette='plasma', hue='Product category')\n",
        "plt.title('Total Profit by Product Category')\n",
        "plt.xlabel('Total Profit (Kr)')\n",
        "plt.ylabel('Product Category')\n",
        "plt.show()\n",
        "\n",
        "print(top_5_profit_by_category)"
      ],
      "metadata": {
        "colab": {
          "base_uri": "https://localhost:8080/",
          "height": 668
        },
        "id": "xrhQQL2WK9G7",
        "outputId": "dc24fe6b-fc1a-4bde-9601-c80bab6b2365"
      },
      "execution_count": 23,
      "outputs": [
        {
          "output_type": "display_data",
          "data": {
            "text/plain": [
              "<Figure size 1000x600 with 1 Axes>"
            ],
            "image/png": "[encoded data removed]"
          },
          "metadata": {}
        },
        {
          "output_type": "stream",
          "name": "stdout",
          "text": [
            "   Product category       Profit\n",
            "10           Spices  1900901.505\n",
            "1       Frozen Fish   983625.900\n",
            "4         Groceries   527568.720\n",
            "7              Rice   356046.000\n",
            "5             Meats   313627.800\n"
          ]
        }
      ]
    },
    {
      "cell_type": "markdown",
      "source": [
        "**Insight**\n",
        "\n",
        "- Spices dominate with the highest profit (1.9M) and sales (8.2M), indicating either a high profit margin or strong consumer demand.\n",
        "- Frozen Fish has strong sales (4.2M) but moderate profit (983K), However, its profit is only about half of Spices despite having more than 50% of the sales volume.\n",
        "- Groceries show stable performance (profit 511K, sales 2.2M), serving as a stable contributor to overall business performance.\n",
        "- Rice & Meats have lower profits and sales, This may be due to narrow profit margins or price competition.\n",
        "- Profit Margins across all categories (~23%) are consistent."
      ],
      "metadata": {
        "id": "y1CT0h_ONVBN"
      }
    },
    {
      "cell_type": "markdown",
      "source": [
        "#### Sales Trend Over Time\n"
      ],
      "metadata": {
        "id": "03vlZW2nL_So"
      }
    },
    {
      "cell_type": "code",
      "source": [
        "# Aggregate total sales per month\n",
        "sales_by_month = sales.groupby(sales['Month'].dt.to_period('M'))['Total Sell'].sum().reset_index()\n",
        "\n",
        "# Convert 'Month' column to datetime objects\n",
        "sales_by_month['Month'] = sales_by_month['Month'].dt.to_timestamp()\n",
        "\n",
        "# Plotting sales trend over time\n",
        "plt.figure(figsize=(10, 6))\n",
        "sns.lineplot(x='Month', y='Total Sell', data=sales_by_month)\n",
        "plt.title('Total Sales Trend Over Time')\n",
        "plt.xlabel('Month')\n",
        "plt.ylabel('Total Sales (Kr)')\n",
        "plt.xticks(rotation=45)\n",
        "plt.show()"
      ],
      "metadata": {
        "colab": {
          "base_uri": "https://localhost:8080/",
          "height": 601
        },
        "id": "aip9yaW-L3ev",
        "outputId": "5ebbad67-cda1-452a-ac28-f4801ce71fa8"
      },
      "execution_count": 24,
      "outputs": [
        {
          "output_type": "display_data",
          "data": {
            "text/plain": [
              "<Figure size 1000x600 with 1 Axes>"
            ],
            "image/png": "[encoded data removed]"
          },
          "metadata": {}
        }
      ]
    },
    {
      "cell_type": "markdown",
      "source": [
        "**Insight**\n",
        "\n",
        "**1. Seasonal Sales Fluctuations**\n",
        "- There is a sharp increase in sales in January 2024, followed by a significant decline in the subsequent months. This may indicate seasonal trends or specific factors driving sales early in the year, such as promotions, holiday periods, or new product launches.\n",
        "- The lowest sales occur around April 2024, but a steady recovery begins afterward.\n",
        "\n",
        "**2. Consistent Growth in the Second Half of 2024**\n",
        "- From April to November 2024, there is a steady upward trend in sales, indicating successful efforts to increase revenue or favorable market conditions during this period.\n",
        "- This growth may reflect improved marketing strategies, customer retention efforts, or seasonal demand cycles.\n",
        "\n",
        "**3. Sales Recovery and Strategic Timing**\n",
        "\n",
        "- The recovery after the April slump highlights potential opportunities to analyze what actions led to the turnaround. Key factors may include better inventory management, adjusted pricing, or targeted promotions during this period.\n",
        "- Businesses should consider replicating these strategies in future months of lower sales.\n",
        "\n",
        "**4. Actionable Opportunities:**\n",
        "\n",
        "- Capitalize on Peak Periods: Leverage the strong start in January and the upward trend toward the end of the year by planning major product launches or campaigns during these periods.\n",
        "- Address Declines: Investigate reasons behind the significant dip in sales during March–April. Possible factors could be customer spending habits, seasonal challenges, or competitive pressures. Introducing targeted promotions or diversifying offerings during this time may help mitigate losses.\n",
        "- Build on Momentum: The consistent growth from May to November suggests an opportunity to enhance sales further through loyalty programs, bundling offers, or expanding product lines."
      ],
      "metadata": {
        "id": "Ran6ENdEL8QN"
      }
    },
    {
      "cell_type": "markdown",
      "source": [
        "#### Correlation Between Price and Profit"
      ],
      "metadata": {
        "id": "UZhNWx2iMtLv"
      }
    },
    {
      "cell_type": "code",
      "source": [
        "# Correlation between 'Price per Piece' and 'Profit'\n",
        "correlation = sales[['Price per Piece (Kr)', 'Profit']].corr()\n",
        "\n",
        "# Displaying correlation\n",
        "print(correlation)\n",
        "\n",
        "# Heatmap of correlation matrix\n",
        "plt.figure(figsize=(8, 6))\n",
        "# Include only numeric features for correlation calculation\n",
        "sns.heatmap(sales.select_dtypes(include=np.number).corr(), annot=True, cmap='coolwarm', fmt='.2f', cbar=True)\n",
        "plt.title('Correlation Heatmap')\n",
        "plt.show()"
      ],
      "metadata": {
        "colab": {
          "base_uri": "https://localhost:8080/",
          "height": 597
        },
        "id": "ocUQ-tKsMuyQ",
        "outputId": "fe20ed36-3a04-4c26-98bf-cc9001ed1e91"
      },
      "execution_count": 25,
      "outputs": [
        {
          "output_type": "stream",
          "name": "stdout",
          "text": [
            "                      Price per Piece (Kr)    Profit\n",
            "Price per Piece (Kr)              1.000000  0.760559\n",
            "Profit                            0.760559  1.000000\n"
          ]
        },
        {
          "output_type": "display_data",
          "data": {
            "text/plain": [
              "<Figure size 800x600 with 2 Axes>"
            ],
            "image/png": "[encoded data removed]"
          },
          "metadata": {}
        }
      ]
    },
    {
      "cell_type": "markdown",
      "source": [
        "**Insight**\n",
        "\n",
        "- The correlation between Profit and both Buying Price and Total Sell is very high (correlation coefficient = 1). This indicates that **higher buying prices and total sales strongly influence the overall profit.** Companies should focus on ensuring optimized buying prices while maximizing sales volumes.\n",
        "- The correlation between Quantity and Profit is moderate (0.51). While **selling more items contributes to profit,** the selling price and cost structures play a more critical role. Increasing sales quantity alone might not guarantee a proportional profit increase.\n",
        "- The correlation between Price per Piece and Quantity is very low (0.07). This suggests that **the price per item has minimal impact on the quantity sold, possibly indicating inelastic demand for the products.**\n",
        "- The Price per Piece correlates moderately with Profit (0.76). Adjusting pricing strategies to increase the per-piece price, without significantly affecting sales volume, could improve profitability.\n",
        "- The buying price and total sell values are perfectly correlated, indicating these variables are possibly calculated together in this dataset. This suggests consistency in the cost-price structure for the products."
      ],
      "metadata": {
        "id": "kru7nITUKCwy"
      }
    },
    {
      "cell_type": "markdown",
      "source": [
        "#### Profit Margin Calculation"
      ],
      "metadata": {
        "id": "M7u2aiAbM512"
      }
    },
    {
      "cell_type": "code",
      "source": [
        "# Calculate profit margin\n",
        "sales['Profit Margin'] = sales['Profit'] / sales['Total Sell']\n",
        "\n",
        "# Display the average profit margin by category\n",
        "profit_margin_by_category = sales.groupby('Product category')['Profit Margin'].mean().reset_index()\n",
        "\n",
        "# Plotting profit margin by category\n",
        "plt.figure(figsize=(10, 6))\n",
        "sns.barplot(x='Profit Margin', y='Product category', data=profit_margin_by_category, palette='coolwarm', hue='Product category')\n",
        "plt.title('Average Profit Margin by Product Category')\n",
        "plt.xlabel('Average Profit Margin')\n",
        "plt.ylabel('Product Category')\n",
        "plt.show()\n"
      ],
      "metadata": {
        "colab": {
          "base_uri": "https://localhost:8080/",
          "height": 564
        },
        "id": "wOllwW40My7t",
        "outputId": "75ef583e-235a-4576-e612-bd729c44fdd7"
      },
      "execution_count": 26,
      "outputs": [
        {
          "output_type": "display_data",
          "data": {
            "text/plain": [
              "<Figure size 1000x600 with 1 Axes>"
            ],
            "image/png": "[encoded data removed]"
          },
          "metadata": {}
        }
      ]
    },
    {
      "cell_type": "markdown",
      "source": [
        "**Insight**\n",
        "\n",
        "- Top Performing Category:\n",
        "The Beverage category has the highest average profit margin compared to other categories. This indicates that beverages are highly profitable, making them a strategic focus for revenue generation.\n",
        "\n",
        "- High Margin but Low Sales Volume:\n",
        "Categories like Rice and Meats also show relatively high average profit margins but may have lower sales volumes. This could indicate niche or premium products that yield higher margins per unit sold.\n",
        "\n",
        "- Price Sensitivity:\n",
        "Snacks and Spices have relatively lower profit margins, which might suggest they are more price-sensitive categories or operate in highly competitive markets.\n",
        "\n",
        "- Frozen Foods and Vegetables:\n",
        "The Frozen Foods and Frozen Vegetables categories are close in profit margins, possibly reflecting efficient cost structures or similar consumer demand dynamics."
      ],
      "metadata": {
        "id": "oP8yZQR_IiMs"
      }
    }
  ]
}